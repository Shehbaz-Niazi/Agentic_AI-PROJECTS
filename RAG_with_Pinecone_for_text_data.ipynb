{
  "nbformat": 4,
  "nbformat_minor": 0,
  "metadata": {
    "colab": {
      "provenance": [],
      "authorship_tag": "ABX9TyOytliI0ZW6rPPewOOmuS9j",
      "include_colab_link": true
    },
    "kernelspec": {
      "name": "python3",
      "display_name": "Python 3"
    },
    "language_info": {
      "name": "python"
    }
  },
  "cells": [
    {
      "cell_type": "markdown",
      "metadata": {
        "id": "view-in-github",
        "colab_type": "text"
      },
      "source": [
        "<a href=\"https://colab.research.google.com/github/Shehbaz-Niazi/Agentic_AI-PROJECTS/blob/main/RAG_with_Pinecone_for_text_data.ipynb\" target=\"_parent\"><img src=\"https://colab.research.google.com/assets/colab-badge.svg\" alt=\"Open In Colab\"/></a>"
      ]
    },
    {
      "cell_type": "markdown",
      "source": [
        "# **Install Libraries**"
      ],
      "metadata": {
        "id": "fBj9SQRXVf__"
      }
    },
    {
      "cell_type": "code",
      "execution_count": null,
      "metadata": {
        "id": "WK1acNl3S4nB"
      },
      "outputs": [],
      "source": [
        "!pip install -q -U langchain\n",
        "!pip install -q -U langchain-google-genai\n",
        "%pip install -qU langchain-pinecone"
      ]
    },
    {
      "cell_type": "markdown",
      "source": [
        "# **Pinecone API and Connection Setup**"
      ],
      "metadata": {
        "id": "d7EOSziHVi4U"
      }
    },
    {
      "cell_type": "code",
      "source": [
        "\n",
        "from google.colab import userdata\n",
        "from pinecone import Pinecone, ServerlessSpec\n",
        "import os\n",
        "\n",
        "os.environ[\"GOOGLE_API_KEY\"] = userdata.get('GOOGLE_API_KEY')\n",
        "\n",
        "pinecone_api_key = userdata.get('PINECONE_API_KEY')\n",
        "\n",
        "pc = Pinecone(api_key=pinecone_api_key)"
      ],
      "metadata": {
        "id": "AOjQa10aT2QK"
      },
      "execution_count": null,
      "outputs": []
    },
    {
      "cell_type": "markdown",
      "source": [
        "# **Making Pincone Index Process**"
      ],
      "metadata": {
        "id": "_uYhVkGqVmdK"
      }
    },
    {
      "cell_type": "code",
      "source": [
        "import time\n",
        "\n",
        "index_name = \"langchain-myself-rag-project\"  # change if desired\n",
        "\n",
        "existing_indexes = [index_info[\"name\"] for index_info in pc.list_indexes()]\n",
        "\n",
        "if index_name not in existing_indexes:\n",
        "    pc.create_index(\n",
        "        name=index_name,\n",
        "        dimension=768,\n",
        "        metric=\"cosine\",\n",
        "        spec=ServerlessSpec(cloud=\"aws\", region=\"us-east-1\"),\n",
        "    )\n",
        "    while not pc.describe_index(index_name).status[\"ready\"]:\n",
        "        time.sleep(1)\n",
        "\n",
        "index = pc.Index(index_name)"
      ],
      "metadata": {
        "id": "oSaOFy_OUw07"
      },
      "execution_count": null,
      "outputs": []
    },
    {
      "cell_type": "markdown",
      "source": [
        "# **Embeddings From Gen AI**"
      ],
      "metadata": {
        "id": "0mbHddU0Ykw-"
      }
    },
    {
      "cell_type": "code",
      "source": [
        "from langchain_google_genai import GoogleGenerativeAIEmbeddings\n",
        "\n",
        "\n",
        "embeddings = GoogleGenerativeAIEmbeddings(model=\"models/embedding-001\")"
      ],
      "metadata": {
        "id": "KphM7C5FVUL1"
      },
      "execution_count": null,
      "outputs": []
    },
    {
      "cell_type": "markdown",
      "source": [
        "# **Creating Documents**"
      ],
      "metadata": {
        "id": "6TvvsCOcYqov"
      }
    },
    {
      "cell_type": "code",
      "source": [
        "from uuid import uuid4\n",
        "from langchain_core.documents import Document\n",
        "\n",
        "# Document 1: Tournament Overview\n",
        "document_1 = Document(\n",
        "    page_content=\"The ICC Champions Trophy 2017 was held in England and Wales from June 1 to June 18, 2017. It featured the top 8 ODI teams in the world competing for the title.\",\n",
        "    metadata={\"source\": \"icc-website\"},\n",
        ")\n",
        "\n",
        "# Document 2: Winner of the Tournament\n",
        "document_2 = Document(\n",
        "    page_content=\"Pakistan won the ICC Champions Trophy 2017 by defeating India in the final by 180 runs. Fakhar Zaman and Mohammad Amir were the standout performers for Pakistan.\",\n",
        "    metadata={\"source\": \"news\"},\n",
        ")\n",
        "\n",
        "# Document 3: Key Match - India vs Pakistan (Group Stage)\n",
        "document_3 = Document(\n",
        "    page_content=\"In the group stage match between India and Pakistan, India won by 124 runs via the DLS method. Yuvraj Singh and Virat Kohli played crucial innings for India.\",\n",
        "    metadata={\"source\": \"match-report\"},\n",
        ")\n",
        "\n",
        "# Document 4: Key Match - Pakistan vs Sri Lanka (Group Stage)\n",
        "document_4 = Document(\n",
        "    page_content=\"Pakistan defeated Sri Lanka by 3 wickets in a thrilling group stage match. Sarfaraz Ahmed led Pakistan to victory with a composed innings.\",\n",
        "    metadata={\"source\": \"match-report\"},\n",
        ")\n",
        "\n",
        "# Document 5: Key Match - England vs Bangladesh (Group Stage)\n",
        "document_5 = Document(\n",
        "    page_content=\"England defeated Bangladesh by 8 wickets in the group stage. Joe Root scored a century to guide England to an easy victory.\",\n",
        "    metadata={\"source\": \"match-report\"},\n",
        ")\n",
        "\n",
        "# Document 6: Semi-Final - England vs Pakistan\n",
        "document_6 = Document(\n",
        "    page_content=\"Pakistan defeated England by 8 wickets in the semi-final. Hasan Ali's bowling and Azhar Ali's batting were key to Pakistan's victory.\",\n",
        "    metadata={\"source\": \"match-report\"},\n",
        ")\n",
        "\n",
        "# Document 7: Semi-Final - India vs Bangladesh\n",
        "document_7 = Document(\n",
        "    page_content=\"India defeated Bangladesh by 9 wickets in the semi-final. Rohit Sharma and Virat Kohli scored half-centuries to secure a comfortable win.\",\n",
        "    metadata={\"source\": \"match-report\"},\n",
        ")\n",
        "\n",
        "# Document 8: Final - India vs Pakistan\n",
        "document_8 = Document(\n",
        "    page_content=\"In the final of the ICC Champions Trophy 2017, Pakistan defeated India by 180 runs. Fakhar Zaman scored a century, and Mohammad Amir took crucial wickets.\",\n",
        "    metadata={\"source\": \"match-report\"},\n",
        ")\n",
        "\n",
        "# Document 9: Top Performers of the Tournament\n",
        "document_9 = Document(\n",
        "    page_content=\"The top performers of the ICC Champions Trophy 2017 included Fakhar Zaman (Pakistan) with the bat and Hasan Ali (Pakistan) with the ball. Hasan Ali was named Player of the Tournament.\",\n",
        "    metadata={\"source\": \"icc-website\"},\n",
        ")\n",
        "\n",
        "# Document 10: Interesting Facts\n",
        "document_10 = Document(\n",
        "    page_content=\"The ICC Champions Trophy 2017 was the last edition of the tournament. It was replaced by the ICC World Test Championship and the ICC ODI Super League.\",\n",
        "    metadata={\"source\": \"news\"},\n",
        ")\n",
        "\n",
        "# List of Documents\n",
        "documents = [\n",
        "    document_1,\n",
        "    document_2,\n",
        "    document_3,\n",
        "    document_4,\n",
        "    document_5,\n",
        "    document_6,\n",
        "    document_7,\n",
        "    document_8,\n",
        "    document_9,\n",
        "    document_10,\n",
        "]\n",
        "\n"
      ],
      "metadata": {
        "id": "n6Qy9Ld5X5r_"
      },
      "execution_count": null,
      "outputs": []
    },
    {
      "cell_type": "markdown",
      "source": [
        "# **Vector Store Setup**"
      ],
      "metadata": {
        "id": "Uzk8Hz5wZ4mM"
      }
    },
    {
      "cell_type": "code",
      "source": [
        "from langchain_pinecone import PineconeVectorStore\n",
        "\n",
        "vector_store = PineconeVectorStore(index=index, embedding=embeddings)"
      ],
      "metadata": {
        "id": "R3aW9weHZ2p-"
      },
      "execution_count": null,
      "outputs": []
    },
    {
      "cell_type": "markdown",
      "source": [
        "# **Adding Documents in Vector Store**"
      ],
      "metadata": {
        "id": "xOzpvzrqquFW"
      }
    },
    {
      "cell_type": "code",
      "source": [
        "uuids = [str(uuid4()) for _ in range(len(documents))]\n",
        "vector_store.add_documents(documents=documents, ids=uuids)"
      ],
      "metadata": {
        "id": "N6F49IqIqtRN"
      },
      "execution_count": null,
      "outputs": []
    },
    {
      "cell_type": "markdown",
      "source": [
        "# **Similarity Search (Basic)**"
      ],
      "metadata": {
        "id": "ZhzM0QTqtAkK"
      }
    },
    {
      "cell_type": "code",
      "source": [
        "results = vector_store.similarity_search(\n",
        "    \"Give Some report of ICC Champion Trophy 2025\",\n",
        "    k=2,\n",
        "    filter={\"source\": \"icc-website\"},\n",
        ")\n",
        "for res in results:\n",
        "    print(f\"* {res.page_content} [{res.metadata}]\")"
      ],
      "metadata": {
        "colab": {
          "base_uri": "https://localhost:8080/"
        },
        "id": "diJIvv7cq1ep",
        "outputId": "9fca4433-93d8-41b3-a669-bcfdbf7750e1"
      },
      "execution_count": null,
      "outputs": [
        {
          "output_type": "stream",
          "name": "stdout",
          "text": [
            "* The ICC Champions Trophy 2017 was held in England and Wales from June 1 to June 18, 2017. It featured the top 8 ODI teams in the world competing for the title. [{'source': 'icc-website'}]\n",
            "* The ICC Champions Trophy 2017 was held in England and Wales from June 1 to June 18, 2017. It featured the top 8 ODI teams in the world competing for the title. [{'source': 'icc-website'}]\n"
          ]
        }
      ]
    },
    {
      "cell_type": "markdown",
      "source": [
        "# **Similarity Search (with Score)**"
      ],
      "metadata": {
        "id": "ulttXUSktxE_"
      }
    },
    {
      "cell_type": "code",
      "source": [
        "results = vector_store.similarity_search_with_score(\n",
        "    \"How many Run to Win Pakistan from india\",\n",
        "    k=1,\n",
        "    filter={\"source\": \"match-report\"}\n",
        ")\n",
        "for res, score in results:\n",
        "    print(f\"* [SIM={score:3f}] {res.page_content} [{res.metadata}]\")"
      ],
      "metadata": {
        "colab": {
          "base_uri": "https://localhost:8080/"
        },
        "id": "tXSmz1DbtuFw",
        "outputId": "4839b64f-ecdc-499a-b7fc-6e77c5531a97"
      },
      "execution_count": null,
      "outputs": [
        {
          "output_type": "stream",
          "name": "stdout",
          "text": [
            "* [SIM=0.693188] In the group stage match between India and Pakistan, India won by 124 runs via the DLS method. Yuvraj Singh and Virat Kohli played crucial innings for India. [{'source': 'match-report'}]\n"
          ]
        }
      ]
    },
    {
      "cell_type": "markdown",
      "source": [
        "# **Langchain LLM Connection With Gemini**"
      ],
      "metadata": {
        "id": "1uupSK4hu2nj"
      }
    },
    {
      "cell_type": "code",
      "source": [
        "from langchain_google_genai import ChatGoogleGenerativeAI\n",
        "\n",
        "llm = ChatGoogleGenerativeAI(\n",
        "    model=\"gemini-1.5-flash\",\n",
        "    temperature=0,\n",
        "    max_tokens=None,\n",
        "    timeout=None,\n",
        "    max_retries=2,\n",
        "    # other params...\n",
        ")"
      ],
      "metadata": {
        "id": "mP1MGR60u0Vl"
      },
      "execution_count": null,
      "outputs": []
    },
    {
      "cell_type": "markdown",
      "source": [
        "# **Final Answer Setup**"
      ],
      "metadata": {
        "id": "7RxMTsaevCiD"
      }
    },
    {
      "cell_type": "code",
      "source": [
        "def answer_to_user(query:str):\n",
        "\n",
        "  # vector search\n",
        "  vector_results = vector_store.similarity_search(query, k=2)\n",
        "  print(len(vector_results))\n",
        "\n",
        "  # pass the model vector Result + User query\n",
        "  final_answer = llm.invoke(f\"Answer This User Query: {query}, Here are some refrences to answer: {vector_results}\")\n",
        "\n",
        "  return final_answer"
      ],
      "metadata": {
        "id": "s2j3sm07u_IF"
      },
      "execution_count": null,
      "outputs": []
    },
    {
      "cell_type": "code",
      "source": [
        "answer =  answer_to_user(\"Tell me about Fakhar zaman icc champion trophy 2017\")\n",
        "print(answer.content)"
      ],
      "metadata": {
        "colab": {
          "base_uri": "https://localhost:8080/"
        },
        "id": "Od1RCkErvIZ2",
        "outputId": "cf549227-5275-4b80-c6aa-5e5cabf0a518"
      },
      "execution_count": null,
      "outputs": [
        {
          "output_type": "stream",
          "name": "stdout",
          "text": [
            "2\n",
            "In the ICC Champions Trophy 2017, Fakhar Zaman was one of Pakistan's top performers with the bat.  While Hasan Ali won the Player of the Tournament award,  Fakhar Zaman's batting contributions were significant to Pakistan's success in the tournament.  The provided text doesn't give specifics on his performance, only that he was a top performer.\n"
          ]
        }
      ]
    }
  ]
}